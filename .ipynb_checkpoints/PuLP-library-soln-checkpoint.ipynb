{
 "cells": [
  {
   "cell_type": "code",
   "execution_count": 2,
   "id": "12b7f09b-acf6-4022-8e2a-085ee1071caf",
   "metadata": {},
   "outputs": [],
   "source": [
    "import pulp\n",
    "import pandas as pd\n",
    "import numpy as np"
   ]
  },
  {
   "cell_type": "code",
   "execution_count": 6,
   "id": "d1cc2c43-f8e6-48e9-8c86-706beb68c492",
   "metadata": {},
   "outputs": [],
   "source": [
    "df = pd.read_csv('data/players_cleaned.csv')"
   ]
  },
  {
   "cell_type": "code",
   "execution_count": 14,
   "id": "fc8bd706-4fa0-4c70-9aa0-723b1f593113",
   "metadata": {},
   "outputs": [],
   "source": [
    "player_names = df['name']\n",
    "player_cost = df['cost']\n",
    "player_points = df['points']\n",
    "player_pos = df[['position_DEF', 'position_GKP', 'position_FWD', 'position_MID']]\n",
    "teams = set(df.columns) - set(['name', 'cost', 'points', 'position_DEF', 'position_GKP', 'position_FWD', 'position_MID'])\n",
    "player_team = df[list(teams)]"
   ]
  },
  {
   "cell_type": "code",
   "execution_count": 20,
   "id": "0ac5204b-d51c-4061-b923-1eea78ad4206",
   "metadata": {},
   "outputs": [],
   "source": [
    "assert(len(player_team.columns) == 20)\n",
    "assert(len(player_pos.columns) == 4)"
   ]
  },
  {
   "cell_type": "code",
   "execution_count": 27,
   "id": "7f0c3979-4061-41ec-96b7-9dacd9993a24",
   "metadata": {},
   "outputs": [],
   "source": [
    "player_binary_choice = [pulp.LpVariable('x' + str(i), cat='Binary') for i in range(len(player_names))]"
   ]
  },
  {
   "cell_type": "code",
   "execution_count": 31,
   "id": "8bd959d9-ed1b-456f-b522-c2ac52538f2c",
   "metadata": {},
   "outputs": [],
   "source": [
    "assert(len(player_binary_choice) == len(player_names))"
   ]
  },
  {
   "cell_type": "code",
   "execution_count": 44,
   "id": "e30af6d7-a66c-439f-b539-9bbc5477d80f",
   "metadata": {},
   "outputs": [],
   "source": [
    "FPL_problem = pulp.LpProblem(\"Maximize_Fantasy_Points\", pulp.LpMaximize)"
   ]
  },
  {
   "cell_type": "markdown",
   "id": "94bacda1-27c5-4e7b-a045-6af78da12f7b",
   "metadata": {},
   "source": [
    "I will add the objective function to our problem"
   ]
  },
  {
   "cell_type": "code",
   "execution_count": 47,
   "id": "6f76bea7-f817-4263-8713-65cf0db0ddda",
   "metadata": {},
   "outputs": [],
   "source": [
    "objective = 0\n",
    "for i in range(len(player_binary_choice)):\n",
    "    objective += player_binary_choice[i] * player_cost[i]\n",
    "\n",
    "FPL_problem += objective, 'Objective'"
   ]
  },
  {
   "cell_type": "markdown",
   "id": "7485dc2f-38e8-4891-9d0f-633e96126d31",
   "metadata": {},
   "source": [
    "I will now add the position constraints"
   ]
  },
  {
   "cell_type": "code",
   "execution_count": 51,
   "id": "be10e6c3-24ff-43b2-8e4a-d4039f6f0126",
   "metadata": {},
   "outputs": [],
   "source": [
    "number_of = {'position_GKP': 2, 'position_FWD': 3, 'position_MID': 5, 'position_DEF': 5}\n",
    "for pos in player_pos.columns:\n",
    "    x = 0\n",
    "    for i in range(len(player_binary_choice)):\n",
    "        x += player_binary_choice[i] * player_pos[pos][i]\n",
    "    FPL_problem += x == number_of[pos], 'Constraint_' + pos"
   ]
  },
  {
   "cell_type": "markdown",
   "id": "71857156-4a2f-4ed1-8eba-565525422b74",
   "metadata": {},
   "source": [
    "I will now add the team constraint"
   ]
  },
  {
   "cell_type": "code",
   "execution_count": null,
   "id": "64354824-0c46-45aa-87ba-a5498eb8a836",
   "metadata": {},
   "outputs": [],
   "source": [
    "I will now add the cost constraint"
   ]
  }
 ],
 "metadata": {
  "kernelspec": {
   "display_name": "Python 3 (myprojectenv)",
   "language": "python",
   "name": "myprojectenv"
  },
  "language_info": {
   "codemirror_mode": {
    "name": "ipython",
    "version": 3
   },
   "file_extension": ".py",
   "mimetype": "text/x-python",
   "name": "python",
   "nbconvert_exporter": "python",
   "pygments_lexer": "ipython3",
   "version": "3.10.14"
  }
 },
 "nbformat": 4,
 "nbformat_minor": 5
}

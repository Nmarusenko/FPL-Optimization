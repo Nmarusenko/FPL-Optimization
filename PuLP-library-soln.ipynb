{
 "cells": [
  {
   "cell_type": "code",
   "execution_count": 1,
   "id": "12b7f09b-acf6-4022-8e2a-085ee1071caf",
   "metadata": {},
   "outputs": [],
   "source": [
    "import pulp\n",
    "import pandas as pd\n",
    "import numpy as np"
   ]
  },
  {
   "cell_type": "code",
   "execution_count": 2,
   "id": "d1cc2c43-f8e6-48e9-8c86-706beb68c492",
   "metadata": {},
   "outputs": [],
   "source": [
    "df = pd.read_csv('data/players_cleaned.csv')"
   ]
  },
  {
   "cell_type": "code",
   "execution_count": 3,
   "id": "fc8bd706-4fa0-4c70-9aa0-723b1f593113",
   "metadata": {},
   "outputs": [],
   "source": [
    "player_names = df['name']\n",
    "player_cost = df['cost']\n",
    "player_points = df['points']\n",
    "player_pos = df[['position_DEF', 'position_GKP', 'position_FWD', 'position_MID']]\n",
    "teams = set(df.columns) - set(['name', 'cost', 'points', 'position_DEF', 'position_GKP', 'position_FWD', 'position_MID'])\n",
    "player_team = df[list(teams)]"
   ]
  },
  {
   "cell_type": "code",
   "execution_count": 4,
   "id": "0ac5204b-d51c-4061-b923-1eea78ad4206",
   "metadata": {},
   "outputs": [],
   "source": [
    "assert(len(player_team.columns) == 20)\n",
    "assert(len(player_pos.columns) == 4)"
   ]
  },
  {
   "cell_type": "code",
   "execution_count": 5,
   "id": "7f0c3979-4061-41ec-96b7-9dacd9993a24",
   "metadata": {},
   "outputs": [],
   "source": [
    "player_binary_choice = [pulp.LpVariable(player_names[i], cat='Binary') for i in range(len(player_names))]"
   ]
  },
  {
   "cell_type": "code",
   "execution_count": 6,
   "id": "8bd959d9-ed1b-456f-b522-c2ac52538f2c",
   "metadata": {},
   "outputs": [],
   "source": [
    "assert(len(player_binary_choice) == len(player_names))"
   ]
  },
  {
   "cell_type": "code",
   "execution_count": 7,
   "id": "e30af6d7-a66c-439f-b539-9bbc5477d80f",
   "metadata": {},
   "outputs": [],
   "source": [
    "FPL_problem = pulp.LpProblem(\"Maximize_Fantasy_Points\", pulp.LpMaximize)"
   ]
  },
  {
   "cell_type": "markdown",
   "id": "94bacda1-27c5-4e7b-a045-6af78da12f7b",
   "metadata": {},
   "source": [
    "I will add the objective function to our problem"
   ]
  },
  {
   "cell_type": "code",
   "execution_count": 8,
   "id": "6f76bea7-f817-4263-8713-65cf0db0ddda",
   "metadata": {},
   "outputs": [],
   "source": [
    "objective = 0\n",
    "for i in range(len(player_binary_choice)):\n",
    "    objective += player_binary_choice[i] * player_points[i]\n",
    "\n",
    "FPL_problem += objective, 'Objective'"
   ]
  },
  {
   "cell_type": "markdown",
   "id": "7485dc2f-38e8-4891-9d0f-633e96126d31",
   "metadata": {},
   "source": [
    "I will now add the position constraints"
   ]
  },
  {
   "cell_type": "code",
   "execution_count": 9,
   "id": "be10e6c3-24ff-43b2-8e4a-d4039f6f0126",
   "metadata": {},
   "outputs": [],
   "source": [
    "number_of = {'position_GKP': 2, 'position_FWD': 3, 'position_MID': 5, 'position_DEF': 5}\n",
    "for pos in player_pos.columns:\n",
    "    x = 0\n",
    "    for i in range(len(player_binary_choice)):\n",
    "        x += player_binary_choice[i] * player_pos[pos][i]\n",
    "    FPL_problem += x == number_of[pos], 'Constraint_' + pos"
   ]
  },
  {
   "cell_type": "markdown",
   "id": "71857156-4a2f-4ed1-8eba-565525422b74",
   "metadata": {},
   "source": [
    "I will now add the team constraint"
   ]
  },
  {
   "cell_type": "code",
   "execution_count": 10,
   "id": "41e0a062-7914-4680-9100-cf63b11b91f5",
   "metadata": {},
   "outputs": [],
   "source": [
    "for team in player_team.columns:\n",
    "    x = 0\n",
    "    for i in range(len(player_binary_choice)):\n",
    "        x += player_binary_choice[i] * player_team[team][i]\n",
    "    FPL_problem += x <= 3, 'Constraint_' + team"
   ]
  },
  {
   "cell_type": "markdown",
   "id": "3282942d-269d-4d27-bc77-73e7a486d59f",
   "metadata": {},
   "source": [
    "I will now add the cost constraint"
   ]
  },
  {
   "cell_type": "code",
   "execution_count": 11,
   "id": "a57478ec-19c6-49ea-b775-f40b5c195296",
   "metadata": {},
   "outputs": [],
   "source": [
    "x = 0\n",
    "for i in range(len(player_binary_choice)):\n",
    "    x += player_binary_choice[i] * player_cost[i]\n",
    "FPL_problem += x <= 1000, 'Constraint_cost'"
   ]
  },
  {
   "cell_type": "markdown",
   "id": "1e10e29d-8143-4826-990b-5260cf58ef10",
   "metadata": {},
   "source": [
    "Solve the problem"
   ]
  },
  {
   "cell_type": "code",
   "execution_count": 12,
   "id": "93b29b3c-67a0-4d95-ab84-d3f4ca59a74e",
   "metadata": {},
   "outputs": [
    {
     "data": {
      "text/plain": [
       "1"
      ]
     },
     "execution_count": 12,
     "metadata": {},
     "output_type": "execute_result"
    }
   ],
   "source": [
    "FPL_problem.solve()"
   ]
  },
  {
   "cell_type": "code",
   "execution_count": 21,
   "id": "d67612bd-ed49-43c2-957f-d75f01c9a3c2",
   "metadata": {},
   "outputs": [
    {
     "data": {
      "text/html": [
       "<div>\n",
       "<style scoped>\n",
       "    .dataframe tbody tr th:only-of-type {\n",
       "        vertical-align: middle;\n",
       "    }\n",
       "\n",
       "    .dataframe tbody tr th {\n",
       "        vertical-align: top;\n",
       "    }\n",
       "\n",
       "    .dataframe thead th {\n",
       "        text-align: right;\n",
       "    }\n",
       "</style>\n",
       "<table border=\"1\" class=\"dataframe\">\n",
       "  <thead>\n",
       "    <tr style=\"text-align: right;\">\n",
       "      <th></th>\n",
       "      <th>position</th>\n",
       "      <th>player</th>\n",
       "      <th>points</th>\n",
       "      <th>cost</th>\n",
       "      <th>team</th>\n",
       "    </tr>\n",
       "  </thead>\n",
       "  <tbody>\n",
       "    <tr>\n",
       "      <th>5</th>\n",
       "      <td>GKP</td>\n",
       "      <td>Mark Flekken</td>\n",
       "      <td>119</td>\n",
       "      <td>45</td>\n",
       "      <td>Brentford</td>\n",
       "    </tr>\n",
       "    <tr>\n",
       "      <th>9</th>\n",
       "      <td>GKP</td>\n",
       "      <td>Jordan Pickford</td>\n",
       "      <td>153</td>\n",
       "      <td>50</td>\n",
       "      <td>Everton</td>\n",
       "    </tr>\n",
       "    <tr>\n",
       "      <th>1</th>\n",
       "      <td>DEF</td>\n",
       "      <td>William Saliba</td>\n",
       "      <td>164</td>\n",
       "      <td>60</td>\n",
       "      <td>Arsenal</td>\n",
       "    </tr>\n",
       "    <tr>\n",
       "      <th>2</th>\n",
       "      <td>DEF</td>\n",
       "      <td>Benjamin White</td>\n",
       "      <td>182</td>\n",
       "      <td>65</td>\n",
       "      <td>Arsenal</td>\n",
       "    </tr>\n",
       "    <tr>\n",
       "      <th>7</th>\n",
       "      <td>DEF</td>\n",
       "      <td>Joachim Andersen</td>\n",
       "      <td>121</td>\n",
       "      <td>45</td>\n",
       "      <td>Crystal Palace</td>\n",
       "    </tr>\n",
       "    <tr>\n",
       "      <th>8</th>\n",
       "      <td>DEF</td>\n",
       "      <td>Jarrad Branthwaite</td>\n",
       "      <td>124</td>\n",
       "      <td>50</td>\n",
       "      <td>Everton</td>\n",
       "    </tr>\n",
       "    <tr>\n",
       "      <th>14</th>\n",
       "      <td>DEF</td>\n",
       "      <td>Pedro Porro</td>\n",
       "      <td>136</td>\n",
       "      <td>55</td>\n",
       "      <td>Spurs</td>\n",
       "    </tr>\n",
       "    <tr>\n",
       "      <th>0</th>\n",
       "      <td>MID</td>\n",
       "      <td>Declan Rice</td>\n",
       "      <td>165</td>\n",
       "      <td>65</td>\n",
       "      <td>Arsenal</td>\n",
       "    </tr>\n",
       "    <tr>\n",
       "      <th>6</th>\n",
       "      <td>MID</td>\n",
       "      <td>Cole Palmer</td>\n",
       "      <td>244</td>\n",
       "      <td>105</td>\n",
       "      <td>Chelsea</td>\n",
       "    </tr>\n",
       "    <tr>\n",
       "      <th>10</th>\n",
       "      <td>MID</td>\n",
       "      <td>Phil Foden</td>\n",
       "      <td>230</td>\n",
       "      <td>95</td>\n",
       "      <td>Man City</td>\n",
       "    </tr>\n",
       "    <tr>\n",
       "      <th>11</th>\n",
       "      <td>MID</td>\n",
       "      <td>Rodrigo 'Rodri' Hernandez</td>\n",
       "      <td>159</td>\n",
       "      <td>65</td>\n",
       "      <td>Man City</td>\n",
       "    </tr>\n",
       "    <tr>\n",
       "      <th>12</th>\n",
       "      <td>MID</td>\n",
       "      <td>Anthony Gordon</td>\n",
       "      <td>183</td>\n",
       "      <td>75</td>\n",
       "      <td>Newcastle</td>\n",
       "    </tr>\n",
       "    <tr>\n",
       "      <th>3</th>\n",
       "      <td>FWD</td>\n",
       "      <td>Ollie Watkins</td>\n",
       "      <td>228</td>\n",
       "      <td>90</td>\n",
       "      <td>Aston Villa</td>\n",
       "    </tr>\n",
       "    <tr>\n",
       "      <th>4</th>\n",
       "      <td>FWD</td>\n",
       "      <td>Dominic Solanke-Mitchell</td>\n",
       "      <td>175</td>\n",
       "      <td>75</td>\n",
       "      <td>Bournemouth</td>\n",
       "    </tr>\n",
       "    <tr>\n",
       "      <th>13</th>\n",
       "      <td>FWD</td>\n",
       "      <td>Chris Wood</td>\n",
       "      <td>131</td>\n",
       "      <td>60</td>\n",
       "      <td>Nott'm Forest</td>\n",
       "    </tr>\n",
       "  </tbody>\n",
       "</table>\n",
       "</div>"
      ],
      "text/plain": [
       "   position                     player  points  cost            team\n",
       "5       GKP               Mark Flekken     119    45       Brentford\n",
       "9       GKP            Jordan Pickford     153    50         Everton\n",
       "1       DEF             William Saliba     164    60         Arsenal\n",
       "2       DEF             Benjamin White     182    65         Arsenal\n",
       "7       DEF           Joachim Andersen     121    45  Crystal Palace\n",
       "8       DEF         Jarrad Branthwaite     124    50         Everton\n",
       "14      DEF                Pedro Porro     136    55           Spurs\n",
       "0       MID                Declan Rice     165    65         Arsenal\n",
       "6       MID                Cole Palmer     244   105         Chelsea\n",
       "10      MID                 Phil Foden     230    95        Man City\n",
       "11      MID  Rodrigo 'Rodri' Hernandez     159    65        Man City\n",
       "12      MID             Anthony Gordon     183    75       Newcastle\n",
       "3       FWD              Ollie Watkins     228    90     Aston Villa\n",
       "4       FWD   Dominic Solanke-Mitchell     175    75     Bournemouth\n",
       "13      FWD                 Chris Wood     131    60   Nott'm Forest"
      ]
     },
     "execution_count": 21,
     "metadata": {},
     "output_type": "execute_result"
    }
   ],
   "source": [
    "original_df = pd.read_csv('data/players.csv')\n",
    "data = {'position': [], 'player': [], 'points': [], 'cost': [], 'team': []}\n",
    "\n",
    "for i in range(len(player_binary_choice)):\n",
    "    if pulp.value(player_binary_choice[i]) == 1:\n",
    "        data['player'].append(player_names[i])\n",
    "        data['cost'].append(player_cost[i])\n",
    "        data['points'].append(player_points[i])\n",
    "        data['team'].append(original_df['team'][i])\n",
    "        data['position'].append(original_df['position'][i])\n",
    "\n",
    "        \n",
    "df = pd.DataFrame(data)\n",
    "df['position'] = pd.Categorical(df['position'], categories=['GKP', 'DEF', 'MID', 'FWD'], ordered=True)\n",
    "df.sort_values(by='position', inplace=True)\n",
    "df"
   ]
  },
  {
   "cell_type": "code",
   "execution_count": null,
   "id": "cedbd031-d6d7-4295-8cef-22a3f45db611",
   "metadata": {},
   "outputs": [],
   "source": []
  }
 ],
 "metadata": {
  "kernelspec": {
   "display_name": "Python 3 (myprojectenv)",
   "language": "python",
   "name": "myprojectenv"
  },
  "language_info": {
   "codemirror_mode": {
    "name": "ipython",
    "version": 3
   },
   "file_extension": ".py",
   "mimetype": "text/x-python",
   "name": "python",
   "nbconvert_exporter": "python",
   "pygments_lexer": "ipython3",
   "version": "3.10.14"
  }
 },
 "nbformat": 4,
 "nbformat_minor": 5
}

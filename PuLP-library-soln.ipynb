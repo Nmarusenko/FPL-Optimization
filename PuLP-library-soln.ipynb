{
 "cells": [
  {
   "cell_type": "markdown",
   "id": "31a65aa7-2d01-4581-86e8-df8154497064",
   "metadata": {},
   "source": [
    "## Fantasy Premier League Player Optimization\n",
    "\n"
   ]
  },
  {
   "cell_type": "markdown",
   "id": "b6e6a9e6-01e1-4ad5-8eb1-a72ceea4bb50",
   "metadata": {},
   "source": [
    "#### Import all the necessary packages"
   ]
  },
  {
   "cell_type": "code",
   "execution_count": 1,
   "id": "12b7f09b-acf6-4022-8e2a-085ee1071caf",
   "metadata": {},
   "outputs": [],
   "source": [
    "import pulp\n",
    "import pandas as pd\n",
    "import numpy as np"
   ]
  },
  {
   "cell_type": "markdown",
   "id": "81d34b33-2a58-42a2-bb7a-d19839609574",
   "metadata": {},
   "source": [
    "#### Read the cleaned version of the data"
   ]
  },
  {
   "cell_type": "code",
   "execution_count": 2,
   "id": "d1cc2c43-f8e6-48e9-8c86-706beb68c492",
   "metadata": {},
   "outputs": [],
   "source": [
    "df = pd.read_csv('data/players_cleaned.csv')"
   ]
  },
  {
   "cell_type": "markdown",
   "id": "8a08e784-61e6-452f-ac83-3cdbef10e8cf",
   "metadata": {},
   "source": [
    "#### Splitting our data"
   ]
  },
  {
   "cell_type": "code",
   "execution_count": 3,
   "id": "fc8bd706-4fa0-4c70-9aa0-723b1f593113",
   "metadata": {},
   "outputs": [],
   "source": [
    "player_names = df['name']\n",
    "player_cost = df['cost']\n",
    "player_points = df['points']\n",
    "player_pos = df[['position_DEF', 'position_GKP', 'position_FWD', 'position_MID']]\n",
    "teams = set(df.columns) - set(['name', 'cost', 'points', 'position_DEF', 'position_GKP', 'position_FWD', 'position_MID'])\n",
    "player_team = df[list(teams)]"
   ]
  },
  {
   "cell_type": "markdown",
   "id": "0122df8e-ac2a-4d9d-a9d3-a779dfc61b31",
   "metadata": {},
   "source": [
    "#### Check that we have correctly split the positions and teams"
   ]
  },
  {
   "cell_type": "code",
   "execution_count": 4,
   "id": "0ac5204b-d51c-4061-b923-1eea78ad4206",
   "metadata": {},
   "outputs": [],
   "source": [
    "assert(len(player_team.columns) == 20)\n",
    "assert(len(player_pos.columns) == 4)"
   ]
  },
  {
   "cell_type": "markdown",
   "id": "94bacda1-27c5-4e7b-a045-6af78da12f7b",
   "metadata": {},
   "source": [
    "#### Add the objective function \n",
    "##### Objective function: $max$ $p*x$ \n",
    "##### Where $p$ is the points vector and $x$ is the binary vector representing the choice of each player"
   ]
  },
  {
   "cell_type": "code",
   "execution_count": 5,
   "id": "6f76bea7-f817-4263-8713-65cf0db0ddda",
   "metadata": {},
   "outputs": [],
   "source": [
    "def AddObjectiveFn(problem, players):\n",
    "    objective = 0\n",
    "    for i in range(len(players)):\n",
    "        objective += players[i] * player_points[i]\n",
    "\n",
    "    problem += objective, 'Objective'"
   ]
  },
  {
   "cell_type": "markdown",
   "id": "7485dc2f-38e8-4891-9d0f-633e96126d31",
   "metadata": {},
   "source": [
    "#### Add the position constraints\n",
    "##### Position constraint: $position * x = val$\n",
    "##### For all ($position$, $val$) in the *number_of* dictionary below"
   ]
  },
  {
   "cell_type": "code",
   "execution_count": 6,
   "id": "be10e6c3-24ff-43b2-8e4a-d4039f6f0126",
   "metadata": {},
   "outputs": [],
   "source": [
    "def AddPositionConstraint(problem, players):\n",
    "    number_of = {'position_GKP': 2, 'position_FWD': 3, 'position_MID': 5, 'position_DEF': 5}\n",
    "    for pos in player_pos.columns:\n",
    "        x = 0\n",
    "        for i in range(len(players)):\n",
    "            x += players[i] * player_pos[pos][i]\n",
    "        problem += x == number_of[pos], 'Constraint_' + pos"
   ]
  },
  {
   "cell_type": "markdown",
   "id": "71857156-4a2f-4ed1-8eba-565525422b74",
   "metadata": {},
   "source": [
    "#### Add the team constraint\n",
    "##### Team constraint: $team * x \\leq 3$\n",
    "##### For all one-hot-encoded teams"
   ]
  },
  {
   "cell_type": "code",
   "execution_count": 7,
   "id": "41e0a062-7914-4680-9100-cf63b11b91f5",
   "metadata": {},
   "outputs": [],
   "source": [
    "def AddTeamConstraint(problem, players):\n",
    "    for team in player_team.columns:\n",
    "        x = 0\n",
    "        for i in range(len(players)):\n",
    "            x += players[i] * player_team[team][i]\n",
    "        problem += x <= 3, 'Constraint_' + team"
   ]
  },
  {
   "cell_type": "markdown",
   "id": "3282942d-269d-4d27-bc77-73e7a486d59f",
   "metadata": {},
   "source": [
    "#### Add the cost constraint\n",
    "##### Cost constraint: $c * x \\leq 1000$\n",
    "##### Where $c$ is the vector representing the cost of each player"
   ]
  },
  {
   "cell_type": "code",
   "execution_count": 8,
   "id": "a57478ec-19c6-49ea-b775-f40b5c195296",
   "metadata": {},
   "outputs": [],
   "source": [
    "def AddCostConstraint(problem, players):\n",
    "    x = 0\n",
    "    for i in range(len(players)):\n",
    "        x += players[i] * player_cost[i]\n",
    "    problem += x <= 1000, 'Constraint_cost'"
   ]
  },
  {
   "cell_type": "code",
   "execution_count": 9,
   "id": "df6b9c66-fba7-486c-840d-3769070a2add",
   "metadata": {},
   "outputs": [],
   "source": [
    "def CreateProblem(problem, players):\n",
    "    AddObjectiveFn(problem, players)\n",
    "    AddPositionConstraint(problem, players)\n",
    "    AddTeamConstraint(problem, players)\n",
    "    AddCostConstraint(problem, players)"
   ]
  },
  {
   "cell_type": "markdown",
   "id": "1e10e29d-8143-4826-990b-5260cf58ef10",
   "metadata": {},
   "source": [
    "### Solving the problem\n",
    "We will compare all the different algorithms to solve the problem and check that they produce the same thing"
   ]
  },
  {
   "cell_type": "code",
   "execution_count": 10,
   "id": "46056d88-6482-4f61-9990-27732fcde0c2",
   "metadata": {},
   "outputs": [],
   "source": [
    "algorithms = [pulp.PULP_CBC_CMD(), \n",
    "              # pulp.GLPK_CMD(),\n",
    "              # pulp.CPLEX_CMD(), \n",
    "              # pulp.GUROBI_CMD(), \n",
    "              # pulp.SCIP_CMD()\n",
    "             ]"
   ]
  },
  {
   "cell_type": "markdown",
   "id": "9d002426-2ce8-4169-8b58-10e5cf0a0e6e",
   "metadata": {},
   "source": [
    "#### Create the vector of binary variables to be optimized"
   ]
  },
  {
   "cell_type": "code",
   "execution_count": 11,
   "id": "7f0c3979-4061-41ec-96b7-9dacd9993a24",
   "metadata": {},
   "outputs": [],
   "source": [
    "binary_vectors = []\n",
    "for alg in algorithms:\n",
    "    player_binary_choice = [pulp.LpVariable(player_names[i], cat='Binary') for i in range(len(player_names))]\n",
    "    assert(len(player_binary_choice) == len(player_names))\n",
    "    binary_vectors.append(player_binary_choice)"
   ]
  },
  {
   "cell_type": "markdown",
   "id": "0c1bbb0c-7062-458b-bd2f-bf7a999358c9",
   "metadata": {},
   "source": [
    "#### Create the maximization problem using the PuLP library"
   ]
  },
  {
   "cell_type": "code",
   "execution_count": 12,
   "id": "e30af6d7-a66c-439f-b539-9bbc5477d80f",
   "metadata": {},
   "outputs": [],
   "source": [
    "problems = []\n",
    "for alg in algorithms:\n",
    "    FPL_problem = pulp.LpProblem(\"Maximize_Fantasy_Points\", pulp.LpMaximize)\n",
    "    problems.append(FPL_problem)"
   ]
  },
  {
   "cell_type": "code",
   "execution_count": 13,
   "id": "93b29b3c-67a0-4d95-ab84-d3f4ca59a74e",
   "metadata": {},
   "outputs": [],
   "source": [
    "original_df = pd.read_csv('data/players.csv')"
   ]
  },
  {
   "cell_type": "code",
   "execution_count": 14,
   "id": "d67612bd-ed49-43c2-957f-d75f01c9a3c2",
   "metadata": {},
   "outputs": [
    {
     "name": "stdout",
     "output_type": "stream",
     "text": [
      "<pulp.apis.coin_api.PULP_CBC_CMD object at 0x0000018F35CB8100>\n",
      "   position                     player  points  cost            team\n",
      "5       GKP               Mark Flekken     119    45       Brentford\n",
      "10      GKP            Jordan Pickford     153    50         Everton\n",
      "1       DEF             William Saliba     164    60         Arsenal\n",
      "2       DEF             Benjamin White     182    65         Arsenal\n",
      "8       DEF           Joachim Andersen     121    45  Crystal Palace\n",
      "9       DEF         Jarrad Branthwaite     124    50         Everton\n",
      "14      DEF                Pedro Porro     136    55           Spurs\n",
      "0       MID                Declan Rice     165    65         Arsenal\n",
      "7       MID                Cole Palmer     244   105         Chelsea\n",
      "11      MID                 Phil Foden     230    95        Man City\n",
      "12      MID  Rodrigo 'Rodri' Hernandez     159    65        Man City\n",
      "13      MID             Anthony Gordon     183    75       Newcastle\n",
      "3       FWD              Ollie Watkins     228    90     Aston Villa\n",
      "4       FWD   Dominic Solanke-Mitchell     175    75     Bournemouth\n",
      "6       FWD                Yoane Wissa     131    60       Brentford\n"
     ]
    }
   ],
   "source": [
    "for i in range(len(algorithms)):\n",
    "    CreateProblem(problems[i], binary_vectors[i])\n",
    "    problems[i].solve(algorithms[i])\n",
    "    data = {'position': [], 'player': [], 'points': [], 'cost': [], 'team': []}\n",
    "\n",
    "    for j in range(len(player_binary_choice)):\n",
    "        if pulp.value(binary_vectors[i][j]) == 1:\n",
    "            data['player'].append(player_names[j])\n",
    "            data['cost'].append(player_cost[j])\n",
    "            data['points'].append(player_points[j])\n",
    "            data['team'].append(original_df['team'][j])\n",
    "            data['position'].append(original_df['position'][j])\n",
    "\n",
    "        \n",
    "    df = pd.DataFrame(data)\n",
    "    df['position'] = pd.Categorical(df['position'], categories=['GKP', 'DEF', 'MID', 'FWD'], ordered=True)\n",
    "    df.sort_values(by='position', inplace=True)\n",
    "    print(algorithms[i])\n",
    "    print(df)"
   ]
  },
  {
   "cell_type": "code",
   "execution_count": null,
   "id": "cedbd031-d6d7-4295-8cef-22a3f45db611",
   "metadata": {},
   "outputs": [],
   "source": []
  }
 ],
 "metadata": {
  "kernelspec": {
   "display_name": "Python 3 (myprojectenv)",
   "language": "python",
   "name": "myprojectenv"
  },
  "language_info": {
   "codemirror_mode": {
    "name": "ipython",
    "version": 3
   },
   "file_extension": ".py",
   "mimetype": "text/x-python",
   "name": "python",
   "nbconvert_exporter": "python",
   "pygments_lexer": "ipython3",
   "version": "3.10.14"
  }
 },
 "nbformat": 4,
 "nbformat_minor": 5
}
